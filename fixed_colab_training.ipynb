{"cells":[],"metadata":{"accelerator":"GPU"},"nbformat":4,"nbformat_minor":0}
