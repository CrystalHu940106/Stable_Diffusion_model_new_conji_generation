{
  "cells": [
    {
      "cell_type": "code",
      "metadata": {},
      "source": [
        "#!/usr/bin/env python3\n",
        "\"\"\"\n",
        "Test VAE output dimensions\n",
        "\"\"\"\n",
        "\n",
        "import torch\n",
        "from stable_diffusion_kanji import VAE\n",
        "\n",
        "def test_vae_dimensions():\n",
        "    \"\"\"Test VAE input/output dimensions\"\"\"\n",
        "    print(\"\ud83d\udd0d Testing VAE Dimensions\")\n",
        "    print(\"=\" * 30)\n",
        "    \n",
        "    # Test different VAE configurations\n",
        "    configs = [\n",
        "        [128, 256, 512, 1024],  # Training config\n",
        "        [64, 128, 256, 512],    # Smaller config\n",
        "        [32, 64, 128, 256]      # Minimal config\n",
        "    ]\n",
        "    \n",
        "    for hidden_dims in configs:\n",
        "        print(f\"\\n\ud83d\udcd0 Testing VAE with hidden_dims: {hidden_dims}\")\n",
        "        \n",
        "        try:\n",
        "            vae = VAE(hidden_dims=hidden_dims)\n",
        "            \n",
        "            # Test input\n",
        "            test_input = torch.randn(1, 3, 128, 128)\n",
        "            print(f\"   Input shape: {test_input.shape}\")\n",
        "            \n",
        "            # Encode\n",
        "            latents, mu, logvar, kl_loss = vae.encode(test_input)\n",
        "            print(f\"   Latents shape: {latents.shape}\")\n",
        "            \n",
        "            # Decode\n",
        "            output = vae.decode(latents)\n",
        "            print(f\"   Output shape: {output.shape}\")\n",
        "            \n",
        "            # Check if output matches input\n",
        "            if output.shape[-2:] == test_input.shape[-2:]:\n",
        "                print(\"   \u2705 Output dimensions match input!\")\n",
        "            else:\n",
        "                print(f\"   \u274c Dimension mismatch: {test_input.shape[-2:]} vs {output.shape[-2:]}\")\n",
        "                \n",
        "        except Exception as e:\n",
        "            print(f\"   \u274c Error: {e}\")\n",
        "\n",
        "if __name__ == \"__main__\":\n",
        "    test_vae_dimensions()\n"
      ],
      "outputs": [],
      "execution_count": null
    }
  ],
  "metadata": {
    "anaconda-cloud": {},
    "kernelspec": {
      "display_name": "Python 3",
      "language": "python",
      "name": "python3"
    },
    "language_info": {
      "codemirror_mode": {
        "name": "ipython",
        "version": 3
      },
      "file_extension": ".py",
      "mimetype": "text/x-python",
      "name": "python",
      "nbconvert_exporter": "python",
      "pygments_lexer": "ipython3",
      "version": "3.6.1"
    }
  },
  "nbformat": 4,
  "nbformat_minor": 4
}